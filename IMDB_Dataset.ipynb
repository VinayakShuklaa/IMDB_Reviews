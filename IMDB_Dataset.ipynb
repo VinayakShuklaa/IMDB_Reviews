{
  "nbformat": 4,
  "nbformat_minor": 0,
  "metadata": {
    "colab": {
      "name": "IMDB_Dataset.ipynb",
      "provenance": []
    },
    "kernelspec": {
      "name": "python3",
      "display_name": "Python 3"
    },
    "language_info": {
      "name": "python"
    }
  },
  "cells": [
    {
      "cell_type": "code",
      "metadata": {
        "id": "3EI0D-XRDv4B"
      },
      "source": [
        "\n",
        "import requests\n",
        "from bs4 import BeautifulSoup"
      ],
      "execution_count": 1,
      "outputs": []
    },
    {
      "cell_type": "code",
      "metadata": {
        "id": "M7AyHE0rD9LN"
      },
      "source": [
        "import pandas as pd\n",
        "import numpy as np\n",
        "import itertools\n",
        "import re\n",
        "import random"
      ],
      "execution_count": 2,
      "outputs": []
    },
    {
      "cell_type": "code",
      "metadata": {
        "id": "MFN0WzuNFk_B"
      },
      "source": [
        "url = \"https://www.imdb.com/search/title/?title_type=feature&release_date=2020-01-01,2021-12-31&num_votes=20000,&count=20\"\n",
        "def getSoup(url):\n",
        "    \"\"\"\n",
        "    Utility function which takes a url and returns a Soup object.\n",
        "    \"\"\"\n",
        "    response = requests.get(url)\n",
        "    soup = BeautifulSoup(response.text, 'html.parser')\n",
        "    \n",
        "    return soup\n",
        "def getReviews(soup):\n",
        "    '''Function returns a negative and positive review for each movie.'''\n",
        "    \n",
        "    # get a list of user ratings\n",
        "    user_review_ratings = [tag.previous_element for tag in \n",
        "                           soup.find_all('span', attrs={'class': 'point-scale'})]\n",
        "    \n",
        "    \n",
        "    \n",
        "    \n",
        "    # get the review tags\n",
        "    user_review_list = soup.find_all('a', attrs={'class':'title'})\n",
        "    ans = []\n",
        "    for i in range(5):\n",
        "        ans.append(user_review_list[random.randint(0, len(user_review_list) -1)])\n",
        "    links = [\"https://www.imdb.com\" + tag['href'] for tag in ans]\n",
        "    return links\n",
        "\n",
        "def getReviewText(review_url):\n",
        "    '''Returns the user review text given the review url.'''\n",
        "    \n",
        "    # get the review_url's soup\n",
        "    soup = getSoup(review_url)\n",
        "    \n",
        "    # find div tags with class text show-more__control\n",
        "    tag = soup.find('div', attrs={'class': 'text show-more__control'})\n",
        "    \n",
        "    return tag.getText()\n",
        "\n",
        "def getMovieTitle(review_url):\n",
        "    '''Returns the movie title from the review url.'''\n",
        "    \n",
        "    # get the review_url's soup\n",
        "    soup = getSoup(review_url)\n",
        "    \n",
        "    # find h1 tag\n",
        "    tag = soup.find('h1')\n",
        "    \n",
        "    return list(tag.children)[1].getText()\n",
        "\n",
        "def getNounChunks(user_review):\n",
        "    \n",
        "    # create the doc object\n",
        "    doc = nlp(user_review)\n",
        "    \n",
        "    # get a list of noun_chunks\n",
        "    noun_chunks = list(doc.noun_chunks)\n",
        "    \n",
        "    # convert noun_chunks from span objects to strings, otherwise it won't pickle\n",
        "    noun_chunks_strlist = [chunk.text for chunk in noun_chunks]\n",
        "    \n",
        "    return noun_chunks_strlist\n",
        "movies_soup = getSoup(url)"
      ],
      "execution_count": 3,
      "outputs": []
    },
    {
      "cell_type": "code",
      "metadata": {
        "id": "pL4VQaW9L-tQ"
      },
      "source": [
        ""
      ],
      "execution_count": null,
      "outputs": []
    },
    {
      "cell_type": "code",
      "metadata": {
        "colab": {
          "base_uri": "https://localhost:8080/"
        },
        "id": "ZgxjdQ39O9U6",
        "outputId": "eab80004-03b7-40fb-c063-30583183753d"
      },
      "source": [
        "movie_tags = movies_soup.find_all('a', attrs={'class': None})\n",
        "\n",
        "# filter the a-tags to get just the titles\n",
        "movie_tags = [tag.attrs['href'] for tag in movie_tags \n",
        "              if tag.attrs['href'].startswith('/title') & tag.attrs['href'].endswith('/')]\n",
        "\n",
        "# remove duplicate links\n",
        "movie_tags = list(dict.fromkeys(movie_tags))\n",
        "\n",
        "print(\"There are a total of \" + str(len(movie_tags)) + \" movie titles\")\n",
        "print(\"Displaying 10 titles\")\n",
        "movie_tags[:10]"
      ],
      "execution_count": 4,
      "outputs": [
        {
          "output_type": "stream",
          "name": "stdout",
          "text": [
            "There are a total of 20 movie titles\n",
            "Displaying 10 titles\n"
          ]
        },
        {
          "output_type": "execute_result",
          "data": {
            "text/plain": [
              "['/title/tt1160419/',\n",
              " '/title/tt9376612/',\n",
              " '/title/tt6264654/',\n",
              " '/title/tt3811906/',\n",
              " '/title/tt10954652/',\n",
              " '/title/tt9347730/',\n",
              " '/title/tt7737528/',\n",
              " '/title/tt6334354/',\n",
              " '/title/tt10155932/',\n",
              " '/title/tt3228774/']"
            ]
          },
          "metadata": {},
          "execution_count": 4
        }
      ]
    },
    {
      "cell_type": "code",
      "metadata": {
        "colab": {
          "base_uri": "https://localhost:8080/"
        },
        "id": "U7z8SvIJPXe2",
        "outputId": "9570bb59-b687-451e-dc97-48e40f1e4edf"
      },
      "source": [
        "base_url = \"https://www.imdb.com\"\n",
        "movie_links = [base_url + tag + 'reviews' for tag in movie_tags]\n",
        "print(\"There are a total of \" + str(len(movie_links)) + \" movie user reviews\")\n",
        "print(\"Displaying 10 user reviews links\")\n",
        "movie_links[:10]"
      ],
      "execution_count": 5,
      "outputs": [
        {
          "output_type": "stream",
          "name": "stdout",
          "text": [
            "There are a total of 20 movie user reviews\n",
            "Displaying 10 user reviews links\n"
          ]
        },
        {
          "output_type": "execute_result",
          "data": {
            "text/plain": [
              "['https://www.imdb.com/title/tt1160419/reviews',\n",
              " 'https://www.imdb.com/title/tt9376612/reviews',\n",
              " 'https://www.imdb.com/title/tt6264654/reviews',\n",
              " 'https://www.imdb.com/title/tt3811906/reviews',\n",
              " 'https://www.imdb.com/title/tt10954652/reviews',\n",
              " 'https://www.imdb.com/title/tt9347730/reviews',\n",
              " 'https://www.imdb.com/title/tt7737528/reviews',\n",
              " 'https://www.imdb.com/title/tt6334354/reviews',\n",
              " 'https://www.imdb.com/title/tt10155932/reviews',\n",
              " 'https://www.imdb.com/title/tt3228774/reviews']"
            ]
          },
          "metadata": {},
          "execution_count": 5
        }
      ]
    },
    {
      "cell_type": "code",
      "metadata": {
        "id": "uJubEHJlPlX8"
      },
      "source": [
        "movie_soups = [getSoup(link) for link in movie_links]\n",
        "\n",
        "# get all 500 movie review links\n",
        "movie_review_list = [getReviews(movie_soup) for movie_soup in movie_soups]\n",
        "\n",
        "#movie_review_list = list(itertools.chain(*movie_review_list))\n",
        "#print(len(movie_review_list))\n",
        "\n",
        "#print(\"There are a total of \" + str(len(movie_review_list)) + \" individual movie reviews\")\n",
        "#print(\"Displaying 10 reviews\")\n",
        "#movie_review_list[:10]"
      ],
      "execution_count": 6,
      "outputs": []
    },
    {
      "cell_type": "code",
      "metadata": {
        "colab": {
          "base_uri": "https://localhost:8080/"
        },
        "id": "g9WaSrRJQBCG",
        "outputId": "2b6fbc54-5d83-479e-8bb0-e3cc2bcb5000"
      },
      "source": [
        "movie_review_list = list(itertools.chain(*movie_review_list))\n",
        "print(len(movie_review_list))\n",
        "\n",
        "print(\"There are a total of \" + str(len(movie_review_list)) + \" individual movie reviews\")\n",
        "print(\"Displaying 10 reviews\")\n",
        "movie_review_list[:10]"
      ],
      "execution_count": 7,
      "outputs": [
        {
          "output_type": "stream",
          "name": "stdout",
          "text": [
            "100\n",
            "There are a total of 100 individual movie reviews\n",
            "Displaying 10 reviews\n"
          ]
        },
        {
          "output_type": "execute_result",
          "data": {
            "text/plain": [
              "['https://www.imdb.com/review/rw7336413/',\n",
              " 'https://www.imdb.com/review/rw7389798/',\n",
              " 'https://www.imdb.com/review/rw7348970/',\n",
              " 'https://www.imdb.com/review/rw7359489/',\n",
              " 'https://www.imdb.com/review/rw7333470/',\n",
              " 'https://www.imdb.com/review/rw7306727/',\n",
              " 'https://www.imdb.com/review/rw7306235/',\n",
              " 'https://www.imdb.com/review/rw7298598/',\n",
              " 'https://www.imdb.com/review/rw7304999/',\n",
              " 'https://www.imdb.com/review/rw7301900/']"
            ]
          },
          "metadata": {},
          "execution_count": 7
        }
      ]
    },
    {
      "cell_type": "code",
      "metadata": {
        "id": "ncS0i7x3S26Q"
      },
      "source": [
        "review_texts = [getReviewText(url) for url in movie_review_list]\n",
        "\n",
        "# get movie name from the review link\n",
        "movie_titles = [getMovieTitle(url) for url in movie_review_list]\n",
        "\n",
        "# label each review with negative or positive\n",
        "\n",
        "# construct a dataframe\n",
        "df = pd.DataFrame({'movie': movie_titles, 'user_review_permalink': movie_review_list,\n",
        "             'user_review': review_texts })"
      ],
      "execution_count": 8,
      "outputs": []
    },
    {
      "cell_type": "code",
      "metadata": {
        "colab": {
          "base_uri": "https://localhost:8080/",
          "height": 206
        },
        "id": "0xbz_uy2TC-0",
        "outputId": "aca440aa-b2b4-4c23-a9d6-6a9873aa015c"
      },
      "source": [
        "df.head()"
      ],
      "execution_count": 9,
      "outputs": [
        {
          "output_type": "execute_result",
          "data": {
            "text/html": [
              "<div>\n",
              "<style scoped>\n",
              "    .dataframe tbody tr th:only-of-type {\n",
              "        vertical-align: middle;\n",
              "    }\n",
              "\n",
              "    .dataframe tbody tr th {\n",
              "        vertical-align: top;\n",
              "    }\n",
              "\n",
              "    .dataframe thead th {\n",
              "        text-align: right;\n",
              "    }\n",
              "</style>\n",
              "<table border=\"1\" class=\"dataframe\">\n",
              "  <thead>\n",
              "    <tr style=\"text-align: right;\">\n",
              "      <th></th>\n",
              "      <th>movie</th>\n",
              "      <th>user_review_permalink</th>\n",
              "      <th>user_review</th>\n",
              "    </tr>\n",
              "  </thead>\n",
              "  <tbody>\n",
              "    <tr>\n",
              "      <th>0</th>\n",
              "      <td>Dune</td>\n",
              "      <td>https://www.imdb.com/review/rw7336413/</td>\n",
              "      <td>\"If you loved Arrival and Blade Runner 2049, t...</td>\n",
              "    </tr>\n",
              "    <tr>\n",
              "      <th>1</th>\n",
              "      <td>Dune</td>\n",
              "      <td>https://www.imdb.com/review/rw7389798/</td>\n",
              "      <td>When the e-mail came I was kinda dreading it.A...</td>\n",
              "    </tr>\n",
              "    <tr>\n",
              "      <th>2</th>\n",
              "      <td>Dune</td>\n",
              "      <td>https://www.imdb.com/review/rw7348970/</td>\n",
              "      <td>Denis Villeneuve's Dune might be one of the vi...</td>\n",
              "    </tr>\n",
              "    <tr>\n",
              "      <th>3</th>\n",
              "      <td>Dune</td>\n",
              "      <td>https://www.imdb.com/review/rw7359489/</td>\n",
              "      <td>The visuals and the score are amazing, there's...</td>\n",
              "    </tr>\n",
              "    <tr>\n",
              "      <th>4</th>\n",
              "      <td>Dune</td>\n",
              "      <td>https://www.imdb.com/review/rw7333470/</td>\n",
              "      <td>I saw the film and I loved it. The film have e...</td>\n",
              "    </tr>\n",
              "  </tbody>\n",
              "</table>\n",
              "</div>"
            ],
            "text/plain": [
              "  movie  ...                                        user_review\n",
              "0  Dune  ...  \"If you loved Arrival and Blade Runner 2049, t...\n",
              "1  Dune  ...  When the e-mail came I was kinda dreading it.A...\n",
              "2  Dune  ...  Denis Villeneuve's Dune might be one of the vi...\n",
              "3  Dune  ...  The visuals and the score are amazing, there's...\n",
              "4  Dune  ...  I saw the film and I loved it. The film have e...\n",
              "\n",
              "[5 rows x 3 columns]"
            ]
          },
          "metadata": {},
          "execution_count": 9
        }
      ]
    },
    {
      "cell_type": "code",
      "metadata": {
        "colab": {
          "base_uri": "https://localhost:8080/",
          "height": 17
        },
        "id": "Ls4FBPnxUI5S",
        "outputId": "d125be02-aa38-4260-8d81-0c5f0a2f883d"
      },
      "source": [
        "from google.colab import files\n",
        "df.to_csv('filename.csv') \n",
        "files.download('filename.csv')"
      ],
      "execution_count": 10,
      "outputs": [
        {
          "output_type": "display_data",
          "data": {
            "application/javascript": [
              "\n",
              "    async function download(id, filename, size) {\n",
              "      if (!google.colab.kernel.accessAllowed) {\n",
              "        return;\n",
              "      }\n",
              "      const div = document.createElement('div');\n",
              "      const label = document.createElement('label');\n",
              "      label.textContent = `Downloading \"${filename}\": `;\n",
              "      div.appendChild(label);\n",
              "      const progress = document.createElement('progress');\n",
              "      progress.max = size;\n",
              "      div.appendChild(progress);\n",
              "      document.body.appendChild(div);\n",
              "\n",
              "      const buffers = [];\n",
              "      let downloaded = 0;\n",
              "\n",
              "      const channel = await google.colab.kernel.comms.open(id);\n",
              "      // Send a message to notify the kernel that we're ready.\n",
              "      channel.send({})\n",
              "\n",
              "      for await (const message of channel.messages) {\n",
              "        // Send a message to notify the kernel that we're ready.\n",
              "        channel.send({})\n",
              "        if (message.buffers) {\n",
              "          for (const buffer of message.buffers) {\n",
              "            buffers.push(buffer);\n",
              "            downloaded += buffer.byteLength;\n",
              "            progress.value = downloaded;\n",
              "          }\n",
              "        }\n",
              "      }\n",
              "      const blob = new Blob(buffers, {type: 'application/binary'});\n",
              "      const a = document.createElement('a');\n",
              "      a.href = window.URL.createObjectURL(blob);\n",
              "      a.download = filename;\n",
              "      div.appendChild(a);\n",
              "      a.click();\n",
              "      div.remove();\n",
              "    }\n",
              "  "
            ],
            "text/plain": [
              "<IPython.core.display.Javascript object>"
            ]
          },
          "metadata": {}
        },
        {
          "output_type": "display_data",
          "data": {
            "application/javascript": [
              "download(\"download_32aa9242-a469-4a17-b8e8-9341e946ce5a\", \"filename.csv\", 82803)"
            ],
            "text/plain": [
              "<IPython.core.display.Javascript object>"
            ]
          },
          "metadata": {}
        }
      ]
    },
    {
      "cell_type": "code",
      "metadata": {
        "id": "hkxAKA-yV9up"
      },
      "source": [
        ""
      ],
      "execution_count": null,
      "outputs": []
    },
    {
      "cell_type": "markdown",
      "metadata": {
        "id": "6yclPtoAV_US"
      },
      "source": [
        "# New Section"
      ]
    },
    {
      "cell_type": "code",
      "metadata": {
        "id": "L9k0D9yCWC_d"
      },
      "source": [
        "from google.colab import drive\n",
        "drive.mount('/content/drive')"
      ],
      "execution_count": null,
      "outputs": []
    }
  ]
}